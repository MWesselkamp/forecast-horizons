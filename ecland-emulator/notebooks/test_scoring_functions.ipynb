{
 "cells": [
  {
   "cell_type": "code",
   "execution_count": 5,
   "id": "fd0d60fd-3eb8-47b3-9903-262d966b3cfb",
   "metadata": {},
   "outputs": [
    {
     "name": "stdout",
     "output_type": "stream",
     "text": [
      "anomaly_correlation() -> forecast.shape: (2, 3), reference.shape: (2, 3), climatology.shape: (2, 3)\n",
      "anomaly() -> y_hat.shape: (2, 3), climatology.shape: (2, 3)\n",
      "anomaly() -> y_hat.shape: (2, 3), climatology.shape: (2, 3)\n",
      "anomaly_correlation() -> anomaly_f.shape: (2, 3), anomaly_r.shape: (2, 3)\n",
      "anomaly_correlation() -> product.shape: (2, 3)\n",
      "-0.7579367289598671\n"
     ]
    }
   ],
   "source": [
    "import numpy as np\n",
    "\n",
    "def anomaly(y_hat, climatology):\n",
    "    # Check shapes\n",
    "    print(f\"anomaly() -> y_hat.shape: {y_hat.shape}, climatology.shape: {climatology.shape}\")\n",
    "    assert y_hat.shape == climatology.shape, \"Shapes of y_hat and climatology must match!\"\n",
    "    \n",
    "    return y_hat - climatology\n",
    "\n",
    "def standardized_anomaly(y_hat, climatology, climatology_std):\n",
    "    # Check shapes before calling anomaly()\n",
    "    print(f\"standardized_anomaly() -> y_hat.shape: {y_hat.shape}, climatology.shape: {climatology.shape}, climatology_std.shape: {climatology_std.shape}\")\n",
    "    assert y_hat.shape == climatology.shape, \"Shapes of y_hat and climatology must match!\"\n",
    "    assert climatology_std.shape == climatology.shape, \"Shapes of climatology and climatology_std must match!\"\n",
    "\n",
    "    # Call anomaly and check its shape\n",
    "    anomaly_result = anomaly(y_hat, climatology)\n",
    "    print(f\"standardized_anomaly() -> anomaly_result.shape: {anomaly_result.shape}\")\n",
    "\n",
    "    return anomaly_result / climatology_std\n",
    "\n",
    "def anomaly_correlation(forecast, reference, climatology):\n",
    "    # Check shapes before calling anomaly()\n",
    "    print(f\"anomaly_correlation() -> forecast.shape: {forecast.shape}, reference.shape: {reference.shape}, climatology.shape: {climatology.shape}\")\n",
    "    assert forecast.shape == reference.shape == climatology.shape, \"Shapes of forecast, reference, and climatology must match!\"\n",
    "    \n",
    "    # Calculate anomalies and check shapes\n",
    "    anomaly_f = anomaly(forecast, climatology)\n",
    "    anomaly_r = anomaly(reference, climatology)\n",
    "    print(f\"anomaly_correlation() -> anomaly_f.shape: {anomaly_f.shape}, anomaly_r.shape: {anomaly_r.shape}\")\n",
    "\n",
    "    product = anomaly_f * anomaly_r\n",
    "    \n",
    "    print(f\"anomaly_correlation() -> product.shape: {product.shape}\")\n",
    "    # Calculate mean squared anomalies\n",
    "    msse = np.mean(product)\n",
    "    act = np.sqrt(np.mean(anomaly_f**2) * np.mean(np.mean(anomaly_r**2)))\n",
    "\n",
    "    return msse / act\n",
    "\n",
    "# Example usage:\n",
    "forecast = np.array([[1, 2, 3], [4, 5, 6]])\n",
    "reference = np.array([[1, 1, 1], [2, 2, 2]])\n",
    "climatology = np.array([[0.5, 1.5, 2.5], [3.5, 4.5, 5.5]])\n",
    "climatology_std = np.array([[0.5, 0.5, 0.5], [0.5, 0.5, 0.5]])\n",
    "\n",
    "# Test the functions`\n",
    "\n",
    "print(anomaly_correlation(forecast, reference, climatology))\n"
   ]
  }
 ],
 "metadata": {
  "kernelspec": {
   "display_name": "myevalenv",
   "language": "python",
   "name": "myevalenv"
  },
  "language_info": {
   "codemirror_mode": {
    "name": "ipython",
    "version": 3
   },
   "file_extension": ".py",
   "mimetype": "text/x-python",
   "name": "python",
   "nbconvert_exporter": "python",
   "pygments_lexer": "ipython3",
   "version": "3.12.6"
  }
 },
 "nbformat": 4,
 "nbformat_minor": 5
}
