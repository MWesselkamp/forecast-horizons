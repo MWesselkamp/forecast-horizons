{
 "cells": [
  {
   "cell_type": "code",
   "execution_count": 3,
   "id": "83abfc76-5cc5-4f56-af30-68a3a8940599",
   "metadata": {},
   "outputs": [
    {
     "name": "stdout",
     "output_type": "stream",
     "text": [
      "/etc/ecmwf/nfs/dh1_home_a/pamw/PycharmProjects/forecast-horizons/ecland-emulator/notebooks\n",
      "Opening ../../configs/smosmania_st.yaml for experiment configuration.\n",
      "Select station:  Condom\n",
      "Select depth:  [0.05, 0.2, 0.3]\n",
      "Extracted year: 2022\n",
      "Matched station with grid cell:  6901\n",
      "Converting celsius into kelvin\n",
      "Resampling to 6-hourly mean.\n",
      "Selecting from index: 1584\n",
      "Subtract lookback for new index: 1584\n"
     ]
    }
   ],
   "source": [
    "import xarray as xr\n",
    "import matplotlib.pyplot as plt\n",
    "import numpy as np\n",
    "import torch\n",
    "import os\n",
    "import sys\n",
    "import yaml\n",
    "\n",
    "SCRIPT_DIR = os.getcwd()\n",
    "sys.path.append(os.path.dirname(SCRIPT_DIR))\n",
    "print(SCRIPT_DIR) \n",
    "\n",
    "from modules.data_module import *\n",
    "from modules.evaluation_module import *\n",
    "from modules.forecast_module import *\n",
    "from modules.observation_module import *\n",
    "from modules.visualisation_module import *\n",
    "from misc.helpers import *\n",
    "\n",
    "PATH_TO_PLOTS = '../plots/'\n",
    "path_to_results = '../results/'\n",
    "\n",
    "#EX_CONFIG = load_config(config_path = '../../configs/smosmania_st.yaml')\n",
    "EX_CONFIG = load_config(config_path = '../../configs/smosmania_st.yaml')\n",
    "EX_STATION = \"Condom\"\n",
    "\n",
    "# List of paths to the .nc files\n",
    "# '/perm/dadf/HSAF_validation/in_situ_data/pre_processed_data/ismn_nc/soil_TERENO_ISMN_2022.nc'\n",
    "#dir_to_data = \"/perm/dadf/HSAF_validation/in_situ_data/pre_processed_data/ismn_nc\"\n",
    "station_name = 'soil_SMOSMANIA_ISMN_2008.nc'\n",
    "\n",
    "all_stations = ['CabrieresdAvignon', 'Condom', 'CreondArmagnac', 'LaGrandCombe',\n",
    "       'Lahas', 'LezignanCorbieres', 'Mazan-Abbaye', 'Mejannes-le-Clap',\n",
    "       'Montaut', 'Mouthoumet', 'Narbonne', 'PeyrusseGrande', 'Pezenas-old',\n",
    "       'Sabres', 'SaintFelixdeLauragais', 'Savenes', 'Urgons', 'Villevielle']\n",
    "use_stations = ['Condom', 'Villevielle', 'LaGrandCombe', 'Narbonne']\n",
    "\n",
    "Station = ObservationModule(network = EX_CONFIG['network'], \n",
    "                                station = EX_STATION ,\n",
    "                                variable = EX_CONFIG['variable'],\n",
    "                                depth=EX_CONFIG['depth']) # Initialise the Observation Module with the default Station (Gevenich)\n",
    "    \n",
    "\n",
    "Station.load_station(years = EX_CONFIG['years']) # Load two years of station data for lookback slicing\n",
    "Station.load_forcing() # Load forcing for matching data base with station data\n",
    "closest_grid_cell = Station.match_station_with_forcing() # Match the station with clostest grid cell and extract the index of the grid cell\n",
    "Station.process_station_data() # specify path_to_plots, if you want to visualise\n",
    "station_data = Station.slice_station_data(lookback=0,t_0=EX_CONFIG['initial_time'])\n",
    "\n",
    "DOY_VECTOR = Station.doy_vector"
   ]
  },
  {
   "cell_type": "code",
   "execution_count": 4,
   "id": "6c67b90e",
   "metadata": {},
   "outputs": [],
   "source": [
    "stations_dict = {}\n",
    "for station in use_stations:\n",
    "    with open(f\"../results/SMOSMANIA_{station}_2022_st_ensemble.yaml\", 'r') as f:\n",
    "        layers = yaml.load(f, Loader=yaml.UnsafeLoader)\n",
    "    stations_dict[station] = layers\n",
    "\n",
    "forecast_dict = {}\n",
    "for station in use_stations[:7]:\n",
    "    with open(f\"../results/SMOSMANIA_{station}_2022_st_ensemble_fc.yaml\", 'r') as f:\n",
    "        layers_fc = yaml.load(f, Loader=yaml.UnsafeLoader)\n",
    "    forecast_dict[station] = layers_fc"
   ]
  },
  {
   "cell_type": "code",
   "execution_count": 6,
   "id": "495682a5",
   "metadata": {},
   "outputs": [],
   "source": [
    "PlotStations = VisualisationMany(\n",
    "                 network = EX_CONFIG[\"network\"], \n",
    "                 station = \"all\", \n",
    "                 variable = EX_CONFIG[\"variable\"], \n",
    "                 maximum_leadtime = 672, \n",
    "                 score = EX_CONFIG[\"score\"],\n",
    "                 doy_vector = DOY_VECTOR,\n",
    "                 evaluation = \"ens\", \n",
    "                 path_to_plots = PATH_TO_PLOTS\n",
    ")\n",
    "\n",
    "PlotStations.assemble_scores(stations_dict)\n",
    "\n",
    "layers = {}\n",
    "\n",
    "for layer, scores in enumerate([PlotStations.scores_l1, PlotStations.scores_l2, PlotStations.scores_l3]):\n",
    "\n",
    "    layers[f\"layer{layer}\"] = {}\n",
    "\n",
    "    layers[f\"layer{layer}\"][\"h_upper\"] = np.argmax((1 - scores[\"skill_scores_upper\"]) < 0)\n",
    "    layers[f\"layer{layer}\"][\"h_mean\"] = np.argmax((1 - scores[\"skill_scores_mean\"]) < 0)\n",
    "    layers[f\"layer{layer}\"][\"h_lower\"] = np.argmax((1 - scores[\"skill_scores_lower\"]) < 0)"
   ]
  },
  {
   "cell_type": "code",
   "execution_count": 7,
   "id": "b1f79a60",
   "metadata": {},
   "outputs": [
    {
     "name": "stdout",
     "output_type": "stream",
     "text": [
      "{'layer0': {'h_upper': np.int64(1), 'h_mean': np.int64(4), 'h_lower': np.int64(8)}, 'layer1': {'h_upper': np.int64(1), 'h_mean': np.int64(10), 'h_lower': np.int64(57)}, 'layer2': {'h_upper': np.int64(0), 'h_mean': np.int64(15), 'h_lower': np.int64(300)}}\n"
     ]
    }
   ],
   "source": [
    "print(layers)"
   ]
  }
 ],
 "metadata": {
  "kernelspec": {
   "display_name": "Python 3",
   "language": "python",
   "name": "python3"
  },
  "language_info": {
   "codemirror_mode": {
    "name": "ipython",
    "version": 3
   },
   "file_extension": ".py",
   "mimetype": "text/x-python",
   "name": "python",
   "nbconvert_exporter": "python",
   "pygments_lexer": "ipython3",
   "version": "3.12.6"
  }
 },
 "nbformat": 4,
 "nbformat_minor": 5
}
