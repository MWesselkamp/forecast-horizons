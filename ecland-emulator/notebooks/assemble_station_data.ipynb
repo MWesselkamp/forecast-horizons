{
 "cells": [
  {
   "cell_type": "code",
   "execution_count": 1,
   "id": "83abfc76-5cc5-4f56-af30-68a3a8940599",
   "metadata": {},
   "outputs": [
    {
     "name": "stdout",
     "output_type": "stream",
     "text": [
      "soil_SMOSMANIA_ISMN_2008.nc\n",
      "soil_SMOSMANIA_ISMN_2008.nc\n"
     ]
    }
   ],
   "source": [
    "import xarray as xr\n",
    "import matplotlib.pyplot as plt\n",
    "import numpy as np\n",
    "import torch\n",
    "import os\n",
    "\n",
    "# List of paths to the .nc files\n",
    "# '/perm/dadf/HSAF_validation/in_situ_data/pre_processed_data/ismn_nc/soil_TERENO_ISMN_2022.nc'\n",
    "dir_to_data = \"/perm/dadf/HSAF_validation/in_situ_data/pre_processed_data/ismn_nc\"\n",
    "\n",
    "station_name = 'soil_SMOSMANIA_ISMN_2008.nc'\n",
    "\n",
    "def update_year(file_name, new_year):\n",
    "    return station_name.replace('2008', str(new_year))\n",
    "\n",
    "update_year(station_name, '2009')\n",
    "print(station_name)\n",
    "\n",
    "nc_files = ['soil_SMOSMANIA_ISMN_2008.nc']\n",
    "print(nc_files[0])"
   ]
  },
  {
   "cell_type": "code",
   "execution_count": 3,
   "id": "2642c56a",
   "metadata": {},
   "outputs": [
    {
     "name": "stdout",
     "output_type": "stream",
     "text": [
      "<xarray.DataArray 'lat' (station_id: 18)> Size: 72B\n",
      "[18 values with dtype=float32]\n",
      "Coordinates:\n",
      "  * station_id  (station_id) <U21 2kB 'CabrieresdAvignon' ... 'Villevielle'\n",
      "    lon         (station_id) float32 72B ...\n",
      "    lat         (station_id) float32 72B ...\n",
      "    network     (station_id) <U14 1kB ...\n",
      "    elevation   (station_id) float32 72B ...\n",
      "    land_class  (station_id) float32 72B ...\n",
      "    clim_class  (station_id) <U3 216B ...\n",
      "<xarray.DataArray 'station_id' (station_id: 18)> Size: 2kB\n",
      "array(['CabrieresdAvignon', 'Condom', 'CreondArmagnac', 'LaGrandCombe',\n",
      "       'Lahas', 'LezignanCorbieres', 'Mazan-Abbaye', 'Mejannes-le-Clap',\n",
      "       'Montaut', 'Mouthoumet', 'Narbonne', 'PeyrusseGrande', 'Pezenas-old',\n",
      "       'Sabres', 'SaintFelixdeLauragais', 'Savenes', 'Urgons', 'Villevielle'],\n",
      "      dtype='<U21')\n",
      "Coordinates:\n",
      "  * station_id  (station_id) <U21 2kB 'CabrieresdAvignon' ... 'Villevielle'\n",
      "    lon         (station_id) float32 72B ...\n",
      "    lat         (station_id) float32 72B ...\n",
      "    network     (station_id) <U14 1kB ...\n",
      "    elevation   (station_id) float32 72B ...\n",
      "    land_class  (station_id) float32 72B ...\n",
      "    clim_class  (station_id) <U3 216B ...\n"
     ]
    }
   ],
   "source": [
    "dataset = xr.open_dataset(os.path.join('/perm/dadf/HSAF_validation/in_situ_data/pre_processed_data/ismn_nc',station_name ))\n",
    "dataset\n",
    "print(dataset.lat)\n",
    "print(dataset.station_id)"
   ]
  }
 ],
 "metadata": {
  "kernelspec": {
   "display_name": "Python 3",
   "language": "python",
   "name": "python3"
  },
  "language_info": {
   "codemirror_mode": {
    "name": "ipython",
    "version": 3
   },
   "file_extension": ".py",
   "mimetype": "text/x-python",
   "name": "python",
   "nbconvert_exporter": "python",
   "pygments_lexer": "ipython3",
   "version": "3.12.6"
  }
 },
 "nbformat": 4,
 "nbformat_minor": 5
}
