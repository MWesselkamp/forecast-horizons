{
 "cells": [
  {
   "cell_type": "code",
   "execution_count": 3,
   "id": "83abfc76-5cc5-4f56-af30-68a3a8940599",
   "metadata": {},
   "outputs": [
    {
     "name": "stdout",
     "output_type": "stream",
     "text": [
      "soil_SMOSMANIA_ISMN_2008.nc\n",
      "soil_SMOSMANIA_ISMN_2008.nc\n"
     ]
    }
   ],
   "source": [
    "import xarray as xr\n",
    "import matplotlib.pyplot as plt\n",
    "import numpy as np\n",
    "import torch\n",
    "import os\n",
    "\n",
    "# List of paths to the .nc files\n",
    "# '/perm/dadf/HSAF_validation/in_situ_data/pre_processed_data/ismn_nc/soil_TERENO_ISMN_2022.nc'\n",
    "dir_to_data = \"/perm/dadf/HSAF_validation/in_situ_data/pre_processed_data/ismn_nc\"\n",
    "\n",
    "station_name = 'soil_SMOSMANIA_ISMN_2008.nc'\n",
    "\n",
    "def update_year(file_name, new_year):\n",
    "    return station_name.replace('2008', str(new_year))\n",
    "\n",
    "update_year(station_name, '2009')\n",
    "print(station_name)\n",
    "\n",
    "nc_files = ['soil_SMOSMANIA_ISMN_2008.nc']\n",
    "print(nc_files[0])"
   ]
  }
 ],
 "metadata": {
  "kernelspec": {
   "display_name": "myevalenv",
   "language": "python",
   "name": "myevalenv"
  },
  "language_info": {
   "codemirror_mode": {
    "name": "ipython",
    "version": 3
   },
   "file_extension": ".py",
   "mimetype": "text/x-python",
   "name": "python",
   "nbconvert_exporter": "python",
   "pygments_lexer": "ipython3",
   "version": "3.12.6"
  }
 },
 "nbformat": 4,
 "nbformat_minor": 5
}
